{
  "cells": [
    {
      "cell_type": "code",
      "source": [
        "# https://drive.google.com/file/d/1DlJY6ySqSZZEUgiOqL2uCkKagt5bP3MN/view?usp=share_link\n",
        "!gdown --id 1DlJY6ySqSZZEUgiOqL2uCkKagt5bP3MN"
      ],
      "metadata": {
        "colab": {
          "base_uri": "https://localhost:8080/"
        },
        "id": "V2H_gNugelj6",
        "outputId": "bbc6dd0f-d282-4f4e-bddc-7bb40f147088"
      },
      "execution_count": null,
      "outputs": [
        {
          "output_type": "stream",
          "name": "stdout",
          "text": [
            "/usr/local/lib/python3.8/dist-packages/gdown/cli.py:127: FutureWarning: Option `--id` was deprecated in version 4.3.1 and will be removed in 5.0. You don't need to pass it anymore to use a file ID.\n",
            "  warnings.warn(\n",
            "Downloading...\n",
            "From: https://drive.google.com/uc?id=1DlJY6ySqSZZEUgiOqL2uCkKagt5bP3MN\n",
            "To: /content/poem_dataset.zip\n",
            "100% 20.3k/20.3k [00:00<00:00, 28.7MB/s]\n"
          ]
        }
      ]
    },
    {
      "cell_type": "code",
      "source": [
        "!unzip './poem_dataset.zip'"
      ],
      "metadata": {
        "colab": {
          "base_uri": "https://localhost:8080/"
        },
        "id": "7RHFkwgge2Nj",
        "outputId": "0876622e-197a-4f5e-ba08-3229f0565ade"
      },
      "execution_count": null,
      "outputs": [
        {
          "output_type": "stream",
          "name": "stdout",
          "text": [
            "Archive:  ./poem_dataset.zip\n",
            "  inflating: poem_dataset.csv        \n"
          ]
        }
      ]
    },
    {
      "cell_type": "markdown",
      "source": [
        "## **1. Import các thư viện cần thiết**"
      ],
      "metadata": {
        "id": "TSsat2oUaitv"
      }
    },
    {
      "cell_type": "code",
      "execution_count": 2,
      "metadata": {
        "id": "x753CoSmVZ1G"
      },
      "outputs": [],
      "source": [
        "import os\n",
        "import numpy as np\n",
        "import pandas as pd\n",
        "import matplotlib.pyplot as plt\n",
        "import tensorflow as tf\n",
        "import re\n",
        "import random\n",
        "\n",
        "from tensorflow.keras.preprocessing.text import Tokenizer\n",
        "from tensorflow.keras.preprocessing.sequence import pad_sequences\n",
        "from nltk.translate.bleu_score import sentence_bleu, corpus_bleu\n",
        "\n",
        "RANDOM_SEED = 1\n",
        "tf.random.set_seed(RANDOM_SEED)"
      ]
    },
    {
      "cell_type": "markdown",
      "source": [
        "## **2. Chuẩn bị dữ liệu**"
      ],
      "metadata": {
        "id": "YKb5snF9aptz"
      }
    },
    {
      "cell_type": "code",
      "source": [
        "def text_normalize(text):\n",
        "    text = text.lower()\n",
        "    text = text.strip() \n",
        "    text = re.sub(r'[^\\w\\s\\n]', '', text)\n",
        "    text = text.replace('\\n\\n', '\\n')\n",
        "    text = '\\n'.join(['<start> ' + line + ' <end>' \\\n",
        "                      for line in text.split('\\n') \\\n",
        "                      if line != '' and len(line.split()) == 5])\n",
        " \n",
        "    return text"
      ],
      "metadata": {
        "id": "sfZ3eP0kPsi7"
      },
      "execution_count": null,
      "outputs": []
    },
    {
      "cell_type": "code",
      "source": [
        "BATCH_SIZE = 32\n",
        "MAX_SEQ_LEN = 7\n",
        "VOCAB_SIZE = 5000 "
      ],
      "metadata": {
        "id": "rxbeWccEX4RN"
      },
      "execution_count": null,
      "outputs": []
    },
    {
      "cell_type": "code",
      "source": [
        "DATASET_PATH = './poem_dataset.csv'\n",
        "df = pd.read_csv(DATASET_PATH, index_col=0)\n",
        "df.head()"
      ],
      "metadata": {
        "colab": {
          "base_uri": "https://localhost:8080/",
          "height": 206
        },
        "id": "2IIJg2nOEALc",
        "outputId": "c3e66b66-2d9a-4a59-f1a7-0165e11e5fe8"
      },
      "execution_count": 3,
      "outputs": [
        {
          "output_type": "execute_result",
          "data": {
            "text/plain": [
              "                         title  \\\n",
              "0       “Cái làm ta hạnh phúc”   \n",
              "1     “Chiều vừa xốp trên tay”   \n",
              "2  “Dưới giàn hoa thiên lý...”   \n",
              "3      “Đến, nhiều nơi để đến”   \n",
              "4       “Đừng bao giờ dại dột”   \n",
              "\n",
              "                                             content  \\\n",
              "0  Cái làm ta hạnh phúc\\nThực ra cũng chẳng nhiều...   \n",
              "1  Chiều vừa xốp trên tay\\nChợt nghe thoáng ong b...   \n",
              "2  Dưới giàn hoa thiên lý\\nMột mình anh đang ngồi...   \n",
              "3  Đến, nhiều nơi để đến\\nVề, trở lại với mình\\nC...   \n",
              "4  Đừng bao giờ dại dột\\nĐem chuyện riêng của mìn...   \n",
              "\n",
              "                                              source  \\\n",
              "0  Nguồn: Châm ngôn mới (thơ), Thái Bá Tân, NXB L...   \n",
              "1  Nguồn: Lâm Huy Nhuận, Chiều có thật (thơ), NXB...   \n",
              "2    Nguồn: Nguyễn Nhật Ánh, Mắt biếc, NXB Trẻ, 2004   \n",
              "3  Nguồn: Châm ngôn mới (thơ), Thái Bá Tân, NXB L...   \n",
              "4  Nguồn: Châm ngôn mới (thơ), Thái Bá Tân, NXB L...   \n",
              "\n",
              "                                                 url  \n",
              "0  https://www.thivien.net/Th%C3%A1i-B%C3%A1-T%C3...  \n",
              "1  https://www.thivien.net/L%C3%A2m-Huy-Nhu%E1%BA...  \n",
              "2  https://www.thivien.net/Nguy%E1%BB%85n-Nh%E1%B...  \n",
              "3  https://www.thivien.net/Th%C3%A1i-B%C3%A1-T%C3...  \n",
              "4  https://www.thivien.net/Th%C3%A1i-B%C3%A1-T%C3...  "
            ],
            "text/html": [
              "\n",
              "  <div id=\"df-3a2da9ca-55a1-487d-9860-88fd65216d90\">\n",
              "    <div class=\"colab-df-container\">\n",
              "      <div>\n",
              "<style scoped>\n",
              "    .dataframe tbody tr th:only-of-type {\n",
              "        vertical-align: middle;\n",
              "    }\n",
              "\n",
              "    .dataframe tbody tr th {\n",
              "        vertical-align: top;\n",
              "    }\n",
              "\n",
              "    .dataframe thead th {\n",
              "        text-align: right;\n",
              "    }\n",
              "</style>\n",
              "<table border=\"1\" class=\"dataframe\">\n",
              "  <thead>\n",
              "    <tr style=\"text-align: right;\">\n",
              "      <th></th>\n",
              "      <th>title</th>\n",
              "      <th>content</th>\n",
              "      <th>source</th>\n",
              "      <th>url</th>\n",
              "    </tr>\n",
              "  </thead>\n",
              "  <tbody>\n",
              "    <tr>\n",
              "      <th>0</th>\n",
              "      <td>“Cái làm ta hạnh phúc”</td>\n",
              "      <td>Cái làm ta hạnh phúc\\nThực ra cũng chẳng nhiều...</td>\n",
              "      <td>Nguồn: Châm ngôn mới (thơ), Thái Bá Tân, NXB L...</td>\n",
              "      <td>https://www.thivien.net/Th%C3%A1i-B%C3%A1-T%C3...</td>\n",
              "    </tr>\n",
              "    <tr>\n",
              "      <th>1</th>\n",
              "      <td>“Chiều vừa xốp trên tay”</td>\n",
              "      <td>Chiều vừa xốp trên tay\\nChợt nghe thoáng ong b...</td>\n",
              "      <td>Nguồn: Lâm Huy Nhuận, Chiều có thật (thơ), NXB...</td>\n",
              "      <td>https://www.thivien.net/L%C3%A2m-Huy-Nhu%E1%BA...</td>\n",
              "    </tr>\n",
              "    <tr>\n",
              "      <th>2</th>\n",
              "      <td>“Dưới giàn hoa thiên lý...”</td>\n",
              "      <td>Dưới giàn hoa thiên lý\\nMột mình anh đang ngồi...</td>\n",
              "      <td>Nguồn: Nguyễn Nhật Ánh, Mắt biếc, NXB Trẻ, 2004</td>\n",
              "      <td>https://www.thivien.net/Nguy%E1%BB%85n-Nh%E1%B...</td>\n",
              "    </tr>\n",
              "    <tr>\n",
              "      <th>3</th>\n",
              "      <td>“Đến, nhiều nơi để đến”</td>\n",
              "      <td>Đến, nhiều nơi để đến\\nVề, trở lại với mình\\nC...</td>\n",
              "      <td>Nguồn: Châm ngôn mới (thơ), Thái Bá Tân, NXB L...</td>\n",
              "      <td>https://www.thivien.net/Th%C3%A1i-B%C3%A1-T%C3...</td>\n",
              "    </tr>\n",
              "    <tr>\n",
              "      <th>4</th>\n",
              "      <td>“Đừng bao giờ dại dột”</td>\n",
              "      <td>Đừng bao giờ dại dột\\nĐem chuyện riêng của mìn...</td>\n",
              "      <td>Nguồn: Châm ngôn mới (thơ), Thái Bá Tân, NXB L...</td>\n",
              "      <td>https://www.thivien.net/Th%C3%A1i-B%C3%A1-T%C3...</td>\n",
              "    </tr>\n",
              "  </tbody>\n",
              "</table>\n",
              "</div>\n",
              "      <button class=\"colab-df-convert\" onclick=\"convertToInteractive('df-3a2da9ca-55a1-487d-9860-88fd65216d90')\"\n",
              "              title=\"Convert this dataframe to an interactive table.\"\n",
              "              style=\"display:none;\">\n",
              "        \n",
              "  <svg xmlns=\"http://www.w3.org/2000/svg\" height=\"24px\"viewBox=\"0 0 24 24\"\n",
              "       width=\"24px\">\n",
              "    <path d=\"M0 0h24v24H0V0z\" fill=\"none\"/>\n",
              "    <path d=\"M18.56 5.44l.94 2.06.94-2.06 2.06-.94-2.06-.94-.94-2.06-.94 2.06-2.06.94zm-11 1L8.5 8.5l.94-2.06 2.06-.94-2.06-.94L8.5 2.5l-.94 2.06-2.06.94zm10 10l.94 2.06.94-2.06 2.06-.94-2.06-.94-.94-2.06-.94 2.06-2.06.94z\"/><path d=\"M17.41 7.96l-1.37-1.37c-.4-.4-.92-.59-1.43-.59-.52 0-1.04.2-1.43.59L10.3 9.45l-7.72 7.72c-.78.78-.78 2.05 0 2.83L4 21.41c.39.39.9.59 1.41.59.51 0 1.02-.2 1.41-.59l7.78-7.78 2.81-2.81c.8-.78.8-2.07 0-2.86zM5.41 20L4 18.59l7.72-7.72 1.47 1.35L5.41 20z\"/>\n",
              "  </svg>\n",
              "      </button>\n",
              "      \n",
              "  <style>\n",
              "    .colab-df-container {\n",
              "      display:flex;\n",
              "      flex-wrap:wrap;\n",
              "      gap: 12px;\n",
              "    }\n",
              "\n",
              "    .colab-df-convert {\n",
              "      background-color: #E8F0FE;\n",
              "      border: none;\n",
              "      border-radius: 50%;\n",
              "      cursor: pointer;\n",
              "      display: none;\n",
              "      fill: #1967D2;\n",
              "      height: 32px;\n",
              "      padding: 0 0 0 0;\n",
              "      width: 32px;\n",
              "    }\n",
              "\n",
              "    .colab-df-convert:hover {\n",
              "      background-color: #E2EBFA;\n",
              "      box-shadow: 0px 1px 2px rgba(60, 64, 67, 0.3), 0px 1px 3px 1px rgba(60, 64, 67, 0.15);\n",
              "      fill: #174EA6;\n",
              "    }\n",
              "\n",
              "    [theme=dark] .colab-df-convert {\n",
              "      background-color: #3B4455;\n",
              "      fill: #D2E3FC;\n",
              "    }\n",
              "\n",
              "    [theme=dark] .colab-df-convert:hover {\n",
              "      background-color: #434B5C;\n",
              "      box-shadow: 0px 1px 3px 1px rgba(0, 0, 0, 0.15);\n",
              "      filter: drop-shadow(0px 1px 2px rgba(0, 0, 0, 0.3));\n",
              "      fill: #FFFFFF;\n",
              "    }\n",
              "  </style>\n",
              "\n",
              "      <script>\n",
              "        const buttonEl =\n",
              "          document.querySelector('#df-3a2da9ca-55a1-487d-9860-88fd65216d90 button.colab-df-convert');\n",
              "        buttonEl.style.display =\n",
              "          google.colab.kernel.accessAllowed ? 'block' : 'none';\n",
              "\n",
              "        async function convertToInteractive(key) {\n",
              "          const element = document.querySelector('#df-3a2da9ca-55a1-487d-9860-88fd65216d90');\n",
              "          const dataTable =\n",
              "            await google.colab.kernel.invokeFunction('convertToInteractive',\n",
              "                                                     [key], {});\n",
              "          if (!dataTable) return;\n",
              "\n",
              "          const docLinkHtml = 'Like what you see? Visit the ' +\n",
              "            '<a target=\"_blank\" href=https://colab.research.google.com/notebooks/data_table.ipynb>data table notebook</a>'\n",
              "            + ' to learn more about interactive tables.';\n",
              "          element.innerHTML = '';\n",
              "          dataTable['output_type'] = 'display_data';\n",
              "          await google.colab.output.renderOutput(dataTable, element);\n",
              "          const docLink = document.createElement('div');\n",
              "          docLink.innerHTML = docLinkHtml;\n",
              "          element.appendChild(docLink);\n",
              "        }\n",
              "      </script>\n",
              "    </div>\n",
              "  </div>\n",
              "  "
            ]
          },
          "metadata": {},
          "execution_count": 3
        }
      ]
    },
    {
      "cell_type": "code",
      "source": [
        "df['content'] = df['content'].apply(lambda p: text_normalize(p))\n",
        "corpus = df['content'].to_numpy()\n",
        "\n",
        "X = []\n",
        "y = []\n",
        "for idx, row in df.iterrows():\n",
        "    lines = row['content'].split('\\n')\n",
        "    lines = [line for line in lines if line != '']\n",
        "    for idx in range(0, len(lines) - 1):\n",
        "        input_sentence = lines[idx]\n",
        "        output_sentence = lines[idx+1]\n",
        "\n",
        "        X.append(input_sentence)\n",
        "        y.append(output_sentence)"
      ],
      "metadata": {
        "id": "GKAz3heZEbTj"
      },
      "execution_count": null,
      "outputs": []
    },
    {
      "cell_type": "code",
      "source": [
        "for idx in range(len(X))[:1]:\n",
        "    print(f'Input: {X[idx]} => {y[idx]}')"
      ],
      "metadata": {
        "colab": {
          "base_uri": "https://localhost:8080/"
        },
        "id": "b68VnUSn8MMs",
        "outputId": "d8f12e2e-dc34-453f-c3d7-46722805c5a0"
      },
      "execution_count": null,
      "outputs": [
        {
          "output_type": "stream",
          "name": "stdout",
          "text": [
            "Input: <start> cái làm ta hạnh phúc <end> => <start> thực ra cũng chẳng nhiều <end>\n"
          ]
        }
      ]
    },
    {
      "cell_type": "code",
      "source": [
        "tokenizer = Tokenizer(num_words=VOCAB_SIZE, filters='', oov_token=\"<OOV>\")\n",
        "tokenizer.fit_on_texts(corpus)\n",
        "\n",
        "VOCAB_SIZE = len(tokenizer.word_index) + 1"
      ],
      "metadata": {
        "id": "IL4WgUmxYNHE"
      },
      "execution_count": null,
      "outputs": []
    },
    {
      "cell_type": "code",
      "source": [
        "def prepare_output_sequences(y_sequences):\n",
        "    y_inputs = pad_sequences(\n",
        "        [y_seq[:-1] for y_seq in y_sequences], \n",
        "        maxlen=MAX_SEQ_LEN, \n",
        "        truncating='pre', \n",
        "        padding='post'\n",
        "    )\n",
        "    y_outputs = pad_sequences(\n",
        "        [y_seq[1:] for y_seq in y_sequences], \n",
        "        maxlen=MAX_SEQ_LEN, \n",
        "        truncating='pre', \n",
        "        padding='post'\n",
        "    )\n",
        "\n",
        "    return y_inputs, y_outputs\n",
        "\n",
        "X_sequences = tokenizer.texts_to_sequences(X)\n",
        "X_padded_sequences = pad_sequences(\n",
        "    X_sequences, \n",
        "    maxlen=MAX_SEQ_LEN, \n",
        "    truncating='pre', \n",
        "    padding='post'\n",
        ")\n",
        "\n",
        "y_sequences = tokenizer.texts_to_sequences(y)\n",
        "y_inputs, y_outputs = prepare_output_sequences(y_sequences)"
      ],
      "metadata": {
        "id": "wTRt_zk3Ok-n"
      },
      "execution_count": null,
      "outputs": []
    },
    {
      "cell_type": "code",
      "source": [
        "n_samples = len(X_padded_sequences)\n",
        "train_len = int(n_samples * 0.7)\n",
        "val_len = int(n_samples * 0.2)\n",
        "test_len = n_samples - train_len - val_len\n",
        "\n",
        "# Shuffle \n",
        "np.random.seed(1)\n",
        "idxs = np.arange(n_samples)\n",
        "idxs = np.random.permutation(idxs)\n",
        "\n",
        "X_padded_sequences = X_padded_sequences[idxs]\n",
        "y_inputs = y_inputs[idxs]\n",
        "y_outputs = y_outputs[idxs]\n",
        "\n",
        "# Split the data into train, validation, and test sets\n",
        "X_train_seq, y_train_input, y_train_output = X_padded_sequences[:train_len], y_inputs[:train_len], y_outputs[:train_len]\n",
        "X_val_seq, y_val_input, y_val_output = X_padded_sequences[train_len:train_len+val_len], y_inputs[train_len:train_len+val_len], y_outputs[train_len:train_len+val_len]\n",
        "X_test_seq, y_test_input, y_test_output = X_padded_sequences[train_len+val_len:], y_inputs[train_len+val_len:], y_outputs[train_len+val_len:]"
      ],
      "metadata": {
        "id": "xGmWikjMS1ah"
      },
      "execution_count": null,
      "outputs": []
    },
    {
      "cell_type": "code",
      "source": [
        "train_ds = tf.data.Dataset.from_tensor_slices(((X_train_seq, y_train_input), y_train_output)).batch(BATCH_SIZE)\n",
        "val_ds = tf.data.Dataset.from_tensor_slices(((X_val_seq, y_val_input), y_val_output)).batch(BATCH_SIZE)\n",
        "test_ds = tf.data.Dataset.from_tensor_slices(((X_test_seq, y_test_input), y_test_output)).batch(BATCH_SIZE)\n",
        "\n",
        "AUTOTUNE = tf.data.AUTOTUNE\n",
        "\n",
        "train_ds = train_ds.cache().prefetch(buffer_size=AUTOTUNE)\n",
        "val_ds = val_ds.cache().prefetch(buffer_size=AUTOTUNE)\n",
        "test_ds = test_ds.cache().prefetch(buffer_size=AUTOTUNE)"
      ],
      "metadata": {
        "id": "onM2jAEBte9v"
      },
      "execution_count": null,
      "outputs": []
    },
    {
      "cell_type": "markdown",
      "source": [
        "## **3. Xây dựng mô hình**"
      ],
      "metadata": {
        "id": "iBYXRSW8at00"
      }
    },
    {
      "cell_type": "markdown",
      "source": [
        "### 3.1. Positional Encoding Layer"
      ],
      "metadata": {
        "id": "eVEKM0CM3Awi"
      }
    },
    {
      "cell_type": "code",
      "source": [
        "def positional_encoding(length, depth):\n",
        "    depth = depth/2\n",
        "\n",
        "    positions = np.arange(length)[:, np.newaxis]     # (seq, 1)\n",
        "    depths = np.arange(depth)[np.newaxis, :]/depth   # (1, depth)\n",
        "\n",
        "    angle_rates = 1 / (10000**depths)         # (1, depth)\n",
        "    angle_rads = positions * angle_rates      # (pos, depth)\n",
        "\n",
        "    pos_encoding = np.concatenate(\n",
        "        [np.sin(angle_rads), np.cos(angle_rads)],\n",
        "        axis=-1) \n",
        "\n",
        "    return tf.cast(pos_encoding, dtype=tf.float32)\n",
        "\n",
        "class PositionalEmbedding(tf.keras.layers.Layer):\n",
        "    def __init__(self, vocab_size, d_model):\n",
        "        super().__init__()\n",
        "        self.d_model = d_model\n",
        "        self.embedding = tf.keras.layers.Embedding(vocab_size, d_model, mask_zero=True) \n",
        "        self.pos_encoding = positional_encoding(length=2048, depth=d_model)\n",
        "\n",
        "    def compute_mask(self, *args, **kwargs):\n",
        "        return self.embedding.compute_mask(*args, **kwargs)\n",
        "\n",
        "    def call(self, x):\n",
        "        length = tf.shape(x)[1]\n",
        "        x = self.embedding(x)\n",
        "        # This factor sets the relative scale of the embedding and positonal_encoding.\n",
        "        x *= tf.math.sqrt(tf.cast(self.d_model, tf.float32))\n",
        "        x = x + self.pos_encoding[tf.newaxis, :length, :]\n",
        "        return x"
      ],
      "metadata": {
        "id": "nEFbBsLs2q95"
      },
      "execution_count": null,
      "outputs": []
    },
    {
      "cell_type": "markdown",
      "source": [
        "### 3.2. Self-attention Layer"
      ],
      "metadata": {
        "id": "qdPLnIH-3GYU"
      }
    },
    {
      "cell_type": "code",
      "source": [
        "class BaseAttention(tf.keras.layers.Layer):\n",
        "    def __init__(self, **kwargs):\n",
        "        super().__init__()\n",
        "        self.mha = tf.keras.layers.MultiHeadAttention(**kwargs)\n",
        "        self.layernorm = tf.keras.layers.LayerNormalization()\n",
        "        self.add = tf.keras.layers.Add()"
      ],
      "metadata": {
        "id": "YXfYIWvB3o61"
      },
      "execution_count": null,
      "outputs": []
    },
    {
      "cell_type": "markdown",
      "source": [
        "### 3.3. Cross-attention Layer"
      ],
      "metadata": {
        "id": "__oPvUVi64cq"
      }
    },
    {
      "cell_type": "code",
      "source": [
        "class CrossAttention(BaseAttention):\n",
        "    def call(self, x, context):\n",
        "        attn_output, attn_scores = self.mha(\n",
        "            query=x,\n",
        "            key=context,\n",
        "            value=context,\n",
        "            return_attention_scores=True)\n",
        "\n",
        "        # Cache the attention scores for plotting later.\n",
        "        self.last_attn_scores = attn_scores\n",
        "\n",
        "        x = self.add([x, attn_output])\n",
        "        x = self.layernorm(x)\n",
        "\n",
        "        return x"
      ],
      "metadata": {
        "id": "XBdDhRKe66sq"
      },
      "execution_count": null,
      "outputs": []
    },
    {
      "cell_type": "markdown",
      "source": [
        "### 3.4. Global Self-attention Layer"
      ],
      "metadata": {
        "id": "wg1LFsNp78yP"
      }
    },
    {
      "cell_type": "code",
      "source": [
        "class GlobalSelfAttention(BaseAttention):\n",
        "    def call(self, x):\n",
        "        attn_output = self.mha(\n",
        "            query=x,\n",
        "            value=x,\n",
        "            key=x)\n",
        "        x = self.add([x, attn_output])\n",
        "        x = self.layernorm(x)\n",
        "        \n",
        "        return x"
      ],
      "metadata": {
        "id": "cC5m3n_e8Aav"
      },
      "execution_count": null,
      "outputs": []
    },
    {
      "cell_type": "markdown",
      "source": [
        "### 3.5. Causal Self-attention Layer"
      ],
      "metadata": {
        "id": "LFu2uQl982cm"
      }
    },
    {
      "cell_type": "code",
      "source": [
        "class CausalSelfAttention(BaseAttention):\n",
        "    def call(self, x):\n",
        "        attn_output = self.mha(\n",
        "            query=x,\n",
        "            value=x,\n",
        "            key=x,\n",
        "            use_causal_mask = True)\n",
        "        x = self.add([x, attn_output])\n",
        "        x = self.layernorm(x)\n",
        "        \n",
        "        return x"
      ],
      "metadata": {
        "id": "0ATiokle85ka"
      },
      "execution_count": null,
      "outputs": []
    },
    {
      "cell_type": "markdown",
      "source": [
        "### 3.6. Feed-forward Network"
      ],
      "metadata": {
        "id": "0eYYZ4gm9RRp"
      }
    },
    {
      "cell_type": "code",
      "source": [
        "class FeedForward(tf.keras.layers.Layer):\n",
        "    def __init__(self, d_model, dff, dropout_rate=0.1):\n",
        "        super().__init__()\n",
        "        self.seq = tf.keras.Sequential([\n",
        "        tf.keras.layers.Dense(dff, activation='relu'),\n",
        "        tf.keras.layers.Dense(d_model),\n",
        "        tf.keras.layers.Dropout(dropout_rate)\n",
        "        ])\n",
        "        self.add = tf.keras.layers.Add()\n",
        "        self.layer_norm = tf.keras.layers.LayerNormalization()\n",
        "\n",
        "    def call(self, x):\n",
        "        x = self.add([x, self.seq(x)])\n",
        "        x = self.layer_norm(x) \n",
        "        return x"
      ],
      "metadata": {
        "id": "PW0fyG119UvS"
      },
      "execution_count": null,
      "outputs": []
    },
    {
      "cell_type": "markdown",
      "source": [
        "### 3.7. Encoder Layer"
      ],
      "metadata": {
        "id": "MRooqf4a9lxq"
      }
    },
    {
      "cell_type": "code",
      "source": [
        "class EncoderLayer(tf.keras.layers.Layer):\n",
        "    def __init__(self,*, d_model, num_heads, dff, dropout_rate=0.1):\n",
        "        super().__init__()\n",
        "\n",
        "        self.self_attention = GlobalSelfAttention(\n",
        "            num_heads=num_heads,\n",
        "            key_dim=d_model,\n",
        "            dropout=dropout_rate)\n",
        "\n",
        "        self.ffn = FeedForward(d_model, dff)\n",
        "\n",
        "    def call(self, x):\n",
        "        x = self.self_attention(x)\n",
        "        x = self.ffn(x)\n",
        "        return x"
      ],
      "metadata": {
        "id": "QV894jTV9oul"
      },
      "execution_count": null,
      "outputs": []
    },
    {
      "cell_type": "markdown",
      "source": [
        "### 3.8. Transformer Encoder"
      ],
      "metadata": {
        "id": "9zrYsImw914U"
      }
    },
    {
      "cell_type": "code",
      "source": [
        "class Encoder(tf.keras.layers.Layer):\n",
        "    def __init__(self, *, num_layers, d_model, num_heads,\n",
        "                dff, vocab_size, dropout_rate=0.1):\n",
        "        super().__init__()\n",
        "\n",
        "        self.d_model = d_model\n",
        "        self.num_layers = num_layers\n",
        "\n",
        "        self.pos_embedding = PositionalEmbedding(\n",
        "            vocab_size=vocab_size, d_model=d_model)\n",
        "\n",
        "        self.enc_layers = [\n",
        "            EncoderLayer(d_model=d_model,\n",
        "                        num_heads=num_heads,\n",
        "                        dff=dff,\n",
        "                        dropout_rate=dropout_rate)\n",
        "            for _ in range(num_layers)]\n",
        "        self.dropout = tf.keras.layers.Dropout(dropout_rate)\n",
        "\n",
        "    def call(self, x):\n",
        "        # `x` is token-IDs shape: (batch, seq_len)\n",
        "        x = self.pos_embedding(x)  # Shape `(batch_size, seq_len, d_model)`.\n",
        "\n",
        "        # Add dropout.\n",
        "        x = self.dropout(x)\n",
        "\n",
        "        for i in range(self.num_layers):\n",
        "            x = self.enc_layers[i](x)\n",
        "\n",
        "        return x  # Shape `(batch_size, seq_len, d_model)`."
      ],
      "metadata": {
        "id": "9HA14C_N94qX"
      },
      "execution_count": null,
      "outputs": []
    },
    {
      "cell_type": "markdown",
      "source": [
        "### 3.9. Decoder Layer"
      ],
      "metadata": {
        "id": "CZdo9DtV96VM"
      }
    },
    {
      "cell_type": "code",
      "source": [
        "class DecoderLayer(tf.keras.layers.Layer):\n",
        "    def __init__(self,\n",
        "                *,\n",
        "                d_model,\n",
        "                num_heads,\n",
        "                dff,\n",
        "                dropout_rate=0.1):\n",
        "        super(DecoderLayer, self).__init__()\n",
        "\n",
        "        self.causal_self_attention = CausalSelfAttention(\n",
        "            num_heads=num_heads,\n",
        "            key_dim=d_model,\n",
        "            dropout=dropout_rate)\n",
        "\n",
        "        self.cross_attention = CrossAttention(\n",
        "            num_heads=num_heads,\n",
        "            key_dim=d_model,\n",
        "            dropout=dropout_rate)\n",
        "\n",
        "        self.ffn = FeedForward(d_model, dff)\n",
        "\n",
        "    def call(self, x, context):\n",
        "        x = self.causal_self_attention(x=x)\n",
        "        x = self.cross_attention(x=x, context=context)\n",
        "\n",
        "        # Cache the last attention scores for plotting later\n",
        "        self.last_attn_scores = self.cross_attention.last_attn_scores\n",
        "\n",
        "        x = self.ffn(x)  # Shape `(batch_size, seq_len, d_model)`.\n",
        "        return x"
      ],
      "metadata": {
        "id": "WKygFk7094vN"
      },
      "execution_count": null,
      "outputs": []
    },
    {
      "cell_type": "markdown",
      "source": [
        "### 3.10. Transformer Decoder"
      ],
      "metadata": {
        "id": "MCoNtShU-Tmn"
      }
    },
    {
      "cell_type": "code",
      "source": [
        "class Decoder(tf.keras.layers.Layer):\n",
        "    def __init__(self, *, num_layers, d_model, num_heads, dff, vocab_size,\n",
        "                dropout_rate=0.1):\n",
        "        super(Decoder, self).__init__()\n",
        "\n",
        "        self.d_model = d_model\n",
        "        self.num_layers = num_layers\n",
        "\n",
        "        self.pos_embedding = PositionalEmbedding(vocab_size=vocab_size,\n",
        "                                                d_model=d_model)\n",
        "        self.dropout = tf.keras.layers.Dropout(dropout_rate)\n",
        "        self.dec_layers = [\n",
        "            DecoderLayer(d_model=d_model, num_heads=num_heads,\n",
        "                        dff=dff, dropout_rate=dropout_rate)\n",
        "            for _ in range(num_layers)]\n",
        "\n",
        "        self.last_attn_scores = None\n",
        "\n",
        "    def call(self, x, context):\n",
        "        # `x` is token-IDs shape (batch, target_seq_len)\n",
        "        x = self.pos_embedding(x)  # (batch_size, target_seq_len, d_model)\n",
        "\n",
        "        x = self.dropout(x)\n",
        "\n",
        "        for i in range(self.num_layers):\n",
        "            x  = self.dec_layers[i](x, context)\n",
        "\n",
        "        self.last_attn_scores = self.dec_layers[-1].last_attn_scores\n",
        "\n",
        "        # The shape of x is (batch_size, target_seq_len, d_model).\n",
        "        return x"
      ],
      "metadata": {
        "id": "SYSo3-DB-Vy_"
      },
      "execution_count": null,
      "outputs": []
    },
    {
      "cell_type": "markdown",
      "source": [
        "### 3.11. Transformer Model"
      ],
      "metadata": {
        "id": "4WHwb3e3-3ds"
      }
    },
    {
      "cell_type": "code",
      "source": [
        "class Transformer(tf.keras.Model):\n",
        "    def __init__(self, *, num_layers, d_model, num_heads, dff,\n",
        "                vocab_size, dropout_rate=0.1):\n",
        "        super().__init__()\n",
        "        self.encoder = Encoder(num_layers=num_layers, d_model=d_model,\n",
        "                            num_heads=num_heads, dff=dff,\n",
        "                            vocab_size=vocab_size,\n",
        "                            dropout_rate=dropout_rate)\n",
        "\n",
        "        self.decoder = Decoder(num_layers=num_layers, d_model=d_model,\n",
        "                            num_heads=num_heads, dff=dff,\n",
        "                            vocab_size=vocab_size,\n",
        "                            dropout_rate=dropout_rate)\n",
        "\n",
        "        self.final_layer = tf.keras.layers.Dense(vocab_size)\n",
        "\n",
        "    def call(self, inputs):\n",
        "        context, x  = inputs\n",
        "\n",
        "        context = self.encoder(context)  # (batch_size, context_len, d_model)\n",
        "\n",
        "        x = self.decoder(x, context)  # (batch_size, target_len, d_model)\n",
        "\n",
        "        # Final linear layer output.\n",
        "        logits = self.final_layer(x)  # (batch_size, target_len, target_vocab_size)\n",
        "\n",
        "        try:\n",
        "            del logits._keras_mask\n",
        "        except AttributeError:\n",
        "            pass\n",
        "\n",
        "        return logits"
      ],
      "metadata": {
        "id": "bc8lJ0g5-5n7"
      },
      "execution_count": null,
      "outputs": []
    },
    {
      "cell_type": "code",
      "source": [
        "N_LAYERS = 4        # Số lượng transformer encoder-decoder block\n",
        "D_MODEL = 128       # Là embedding dims của một token được biểu diễn trong transformer.\n",
        "D_FF = 512          # Số lượng node tại hidden layer của FeedForward Network layer\n",
        "N_HEADS = 8         # Số lượng head trong multi-head attention layers\n",
        "DROPOUT_RATE = 0.2  # Tỉ lệ dropout tại các layer Dropout() trong transformer"
      ],
      "metadata": {
        "id": "45nTAWsWPSks"
      },
      "execution_count": null,
      "outputs": []
    },
    {
      "cell_type": "code",
      "source": [
        "transformer = Transformer(\n",
        "    num_layers=N_LAYERS,\n",
        "    d_model=D_MODEL,\n",
        "    num_heads=N_HEADS,\n",
        "    dff=D_FF,\n",
        "    vocab_size=VOCAB_SIZE,\n",
        "    dropout_rate=DROPOUT_RATE\n",
        ")"
      ],
      "metadata": {
        "id": "8-R7Z-7hP_em"
      },
      "execution_count": null,
      "outputs": []
    },
    {
      "cell_type": "code",
      "source": [
        "batches = train_ds.take(2)\n",
        "for batch in batches:\n",
        "    X_try, y_try = batch[0], batch[1]\n",
        "    break"
      ],
      "metadata": {
        "id": "DZ-GuflyBYV0"
      },
      "execution_count": null,
      "outputs": []
    },
    {
      "cell_type": "code",
      "source": [
        "output = transformer(X_try)"
      ],
      "metadata": {
        "id": "Q1QsCOzQBDyS"
      },
      "execution_count": null,
      "outputs": []
    },
    {
      "cell_type": "code",
      "source": [
        "output.shape"
      ],
      "metadata": {
        "colab": {
          "base_uri": "https://localhost:8080/"
        },
        "id": "5e6alPQzDNCF",
        "outputId": "ee298c5e-7213-4438-9b25-9a71b19580e0"
      },
      "execution_count": null,
      "outputs": [
        {
          "output_type": "execute_result",
          "data": {
            "text/plain": [
              "TensorShape([32, 7, 1471])"
            ]
          },
          "metadata": {},
          "execution_count": 27
        }
      ]
    },
    {
      "cell_type": "code",
      "source": [
        "transformer.summary()"
      ],
      "metadata": {
        "colab": {
          "base_uri": "https://localhost:8080/"
        },
        "id": "hvkV3HDv_IuC",
        "outputId": "380cadb1-f159-4b21-ce03-cbd50c65f537"
      },
      "execution_count": null,
      "outputs": [
        {
          "output_type": "stream",
          "name": "stdout",
          "text": [
            "Model: \"transformer\"\n",
            "_________________________________________________________________\n",
            " Layer (type)                Output Shape              Param #   \n",
            "=================================================================\n",
            " encoder (Encoder)           multiple                  2827136   \n",
            "                                                                 \n",
            " decoder (Decoder)           multiple                  4938112   \n",
            "                                                                 \n",
            " dense_16 (Dense)            multiple                  189759    \n",
            "                                                                 \n",
            "=================================================================\n",
            "Total params: 7,955,007\n",
            "Trainable params: 7,955,007\n",
            "Non-trainable params: 0\n",
            "_________________________________________________________________\n"
          ]
        }
      ]
    },
    {
      "cell_type": "markdown",
      "source": [
        "## **4. Cấu hình mô hình**"
      ],
      "metadata": {
        "id": "YLf9DMbmbX9M"
      }
    },
    {
      "cell_type": "code",
      "source": [
        "# Khai báo một số giá trị siêu tham số\n",
        "EPOCHS = 50"
      ],
      "metadata": {
        "id": "RVY1Eo7wxmbG"
      },
      "execution_count": null,
      "outputs": []
    },
    {
      "cell_type": "code",
      "source": [
        "class CustomSchedule(tf.keras.optimizers.schedules.LearningRateSchedule):\n",
        "    def __init__(self, d_model, warmup_steps=4000):\n",
        "        super().__init__()\n",
        "\n",
        "        self.d_model = d_model\n",
        "        self.d_model = tf.cast(self.d_model, tf.float32)\n",
        "\n",
        "        self.warmup_steps = warmup_steps\n",
        "\n",
        "    def __call__(self, step):\n",
        "        step = tf.cast(step, dtype=tf.float32)\n",
        "        arg1 = tf.math.rsqrt(step)\n",
        "        arg2 = step * (self.warmup_steps ** -1.5)\n",
        "\n",
        "        return tf.math.rsqrt(self.d_model) * tf.math.minimum(arg1, arg2)"
      ],
      "metadata": {
        "id": "v-FdNRo6_U_k"
      },
      "execution_count": null,
      "outputs": []
    },
    {
      "cell_type": "code",
      "source": [
        "learning_rate = CustomSchedule(D_MODEL)\n",
        "\n",
        "optimizer = tf.keras.optimizers.Adam(\n",
        "    learning_rate, \n",
        "    beta_1=0.9, \n",
        "    beta_2=0.98,\n",
        "    epsilon=1e-9\n",
        ")"
      ],
      "metadata": {
        "id": "ed4dHZkf_XC7"
      },
      "execution_count": null,
      "outputs": []
    },
    {
      "cell_type": "code",
      "source": [
        "def masked_loss(label, pred):\n",
        "    mask = label != 0\n",
        "    loss_object = tf.keras.losses.SparseCategoricalCrossentropy(\n",
        "        from_logits=True, reduction='none')\n",
        "    loss = loss_object(label, pred)\n",
        "\n",
        "    mask = tf.cast(mask, dtype=loss.dtype)\n",
        "    loss *= mask\n",
        "\n",
        "    loss = tf.reduce_sum(loss)/tf.reduce_sum(mask)\n",
        "\n",
        "    return loss\n",
        "\n",
        "\n",
        "def masked_accuracy(label, pred):\n",
        "    pred = tf.argmax(pred, axis=2)\n",
        "    label = tf.cast(label, pred.dtype)\n",
        "    match = label == pred\n",
        "\n",
        "    mask = label != 0\n",
        "\n",
        "    match = match & mask\n",
        "\n",
        "    match = tf.cast(match, dtype=tf.float32)\n",
        "    mask = tf.cast(mask, dtype=tf.float32)\n",
        "    \n",
        "    return tf.reduce_sum(match)/tf.reduce_sum(mask)\n",
        "\n",
        "def compute_perplexity(logits, targets):\n",
        "    loss_fn = tf.keras.losses.SparseCategoricalCrossentropy(\n",
        "        from_logits=True, reduction='none')\n",
        "\n",
        "    loss = loss_fn(targets, logits)\n",
        "\n",
        "    perplexity = np.exp(np.mean(loss))\n",
        "\n",
        "    return perplexity\n",
        "\n",
        "\n",
        "def compute_bleu(predicted, targets):\n",
        "    predicted_strings = []\n",
        "    for seq in predicted:\n",
        "        seq = np.argmax(seq, axis=1)\n",
        "        string_seq = \" \".join([tokenizer.sequences_to_texts([[token]])[0] for token in seq if token != 0])\n",
        "        predicted_strings.append(string_seq)\n",
        "    target_strings = []\n",
        "    for seq in targets:\n",
        "        seq = seq.numpy().tolist()\n",
        "        string_seq = \" \".join([tokenizer.sequences_to_texts([[token]])[0] for token in seq if token != 0])\n",
        "        target_strings.append([string_seq])  \n",
        "\n",
        "    bleu_score = corpus_bleu(target_strings, predicted_strings)\n",
        "\n",
        "    return bleu_score"
      ],
      "metadata": {
        "id": "Ni0iuAHj_hLa"
      },
      "execution_count": null,
      "outputs": []
    },
    {
      "cell_type": "code",
      "source": [
        "transformer.compile(\n",
        "    loss=masked_loss,\n",
        "    optimizer=optimizer,\n",
        "    metrics=[masked_accuracy]\n",
        ")"
      ],
      "metadata": {
        "id": "cR868LBvxoZY"
      },
      "execution_count": null,
      "outputs": []
    },
    {
      "cell_type": "markdown",
      "source": [
        "## **5. Thực hiện huấn luyện**"
      ],
      "metadata": {
        "id": "3Kb90Safbc0I"
      }
    },
    {
      "cell_type": "code",
      "source": [
        "history = transformer.fit(\n",
        "    train_ds,\n",
        "    epochs=EPOCHS,\n",
        "    validation_data=val_ds\n",
        ")"
      ],
      "metadata": {
        "colab": {
          "base_uri": "https://localhost:8080/"
        },
        "id": "-StpXxgExtFo",
        "outputId": "793fb7d6-893d-4707-eb97-289a7cb2d161"
      },
      "execution_count": null,
      "outputs": [
        {
          "output_type": "stream",
          "name": "stdout",
          "text": [
            "Epoch 1/50\n",
            "23/23 [==============================] - 41s 311ms/step - loss: 7.2338 - masked_accuracy: 0.0130 - val_loss: 7.1170 - val_masked_accuracy: 0.1544\n",
            "Epoch 2/50\n",
            "23/23 [==============================] - 1s 45ms/step - loss: 7.0048 - masked_accuracy: 0.1522 - val_loss: 6.8208 - val_masked_accuracy: 0.1667\n",
            "Epoch 3/50\n",
            "23/23 [==============================] - 1s 45ms/step - loss: 6.7585 - masked_accuracy: 0.1667 - val_loss: 6.6655 - val_masked_accuracy: 0.1667\n",
            "Epoch 4/50\n",
            "23/23 [==============================] - 1s 51ms/step - loss: 6.6276 - masked_accuracy: 0.1667 - val_loss: 6.5940 - val_masked_accuracy: 0.1667\n",
            "Epoch 5/50\n",
            "23/23 [==============================] - 2s 80ms/step - loss: 6.5534 - masked_accuracy: 0.1667 - val_loss: 6.5405 - val_masked_accuracy: 0.1667\n",
            "Epoch 6/50\n",
            "23/23 [==============================] - 1s 45ms/step - loss: 6.4843 - masked_accuracy: 0.1667 - val_loss: 6.4826 - val_masked_accuracy: 0.1667\n",
            "Epoch 7/50\n",
            "23/23 [==============================] - 1s 45ms/step - loss: 6.4067 - masked_accuracy: 0.1667 - val_loss: 6.4118 - val_masked_accuracy: 0.1667\n",
            "Epoch 8/50\n",
            "23/23 [==============================] - 1s 45ms/step - loss: 6.3171 - masked_accuracy: 0.1667 - val_loss: 6.3409 - val_masked_accuracy: 0.1667\n",
            "Epoch 9/50\n",
            "23/23 [==============================] - 1s 45ms/step - loss: 6.2170 - masked_accuracy: 0.1676 - val_loss: 6.2648 - val_masked_accuracy: 0.1722\n",
            "Epoch 10/50\n",
            "23/23 [==============================] - 1s 43ms/step - loss: 6.1223 - masked_accuracy: 0.1685 - val_loss: 6.1978 - val_masked_accuracy: 0.1722\n",
            "Epoch 11/50\n",
            "23/23 [==============================] - 1s 45ms/step - loss: 6.0299 - masked_accuracy: 0.1698 - val_loss: 6.1334 - val_masked_accuracy: 0.1793\n",
            "Epoch 12/50\n",
            "23/23 [==============================] - 1s 44ms/step - loss: 5.9419 - masked_accuracy: 0.1696 - val_loss: 6.0744 - val_masked_accuracy: 0.1793\n",
            "Epoch 13/50\n",
            "23/23 [==============================] - 1s 45ms/step - loss: 5.8560 - masked_accuracy: 0.1730 - val_loss: 6.0157 - val_masked_accuracy: 0.1793\n",
            "Epoch 14/50\n",
            "23/23 [==============================] - 1s 49ms/step - loss: 5.7691 - masked_accuracy: 0.1762 - val_loss: 5.9819 - val_masked_accuracy: 0.1800\n",
            "Epoch 15/50\n",
            "23/23 [==============================] - 2s 78ms/step - loss: 5.6838 - masked_accuracy: 0.1780 - val_loss: 5.9220 - val_masked_accuracy: 0.1845\n",
            "Epoch 16/50\n",
            "23/23 [==============================] - 1s 47ms/step - loss: 5.6030 - masked_accuracy: 0.1782 - val_loss: 5.8988 - val_masked_accuracy: 0.1815\n",
            "Epoch 17/50\n",
            "23/23 [==============================] - 1s 44ms/step - loss: 5.5088 - masked_accuracy: 0.1796 - val_loss: 5.8638 - val_masked_accuracy: 0.1830\n",
            "Epoch 18/50\n",
            "23/23 [==============================] - 1s 44ms/step - loss: 5.4225 - masked_accuracy: 0.1824 - val_loss: 5.8336 - val_masked_accuracy: 0.1867\n",
            "Epoch 19/50\n",
            "23/23 [==============================] - 1s 44ms/step - loss: 5.3249 - masked_accuracy: 0.1864 - val_loss: 5.8057 - val_masked_accuracy: 0.1852\n",
            "Epoch 20/50\n",
            "23/23 [==============================] - 1s 44ms/step - loss: 5.2397 - masked_accuracy: 0.1864 - val_loss: 5.7944 - val_masked_accuracy: 0.1874\n",
            "Epoch 21/50\n",
            "23/23 [==============================] - 1s 43ms/step - loss: 5.1577 - masked_accuracy: 0.1907 - val_loss: 5.7959 - val_masked_accuracy: 0.1852\n",
            "Epoch 22/50\n",
            "23/23 [==============================] - 1s 44ms/step - loss: 5.0624 - masked_accuracy: 0.1993 - val_loss: 5.7892 - val_masked_accuracy: 0.1860\n",
            "Epoch 23/50\n",
            "23/23 [==============================] - 1s 48ms/step - loss: 4.9814 - masked_accuracy: 0.2021 - val_loss: 5.7786 - val_masked_accuracy: 0.1874\n",
            "Epoch 24/50\n",
            "23/23 [==============================] - 1s 51ms/step - loss: 4.8922 - masked_accuracy: 0.2151 - val_loss: 5.7827 - val_masked_accuracy: 0.1874\n",
            "Epoch 25/50\n",
            "23/23 [==============================] - 2s 75ms/step - loss: 4.8142 - masked_accuracy: 0.2249 - val_loss: 5.8015 - val_masked_accuracy: 0.1882\n",
            "Epoch 26/50\n",
            "23/23 [==============================] - 1s 45ms/step - loss: 4.7306 - masked_accuracy: 0.2363 - val_loss: 5.7775 - val_masked_accuracy: 0.1975\n",
            "Epoch 27/50\n",
            "23/23 [==============================] - 1s 45ms/step - loss: 4.6361 - masked_accuracy: 0.2412 - val_loss: 5.7923 - val_masked_accuracy: 0.1985\n",
            "Epoch 28/50\n",
            "23/23 [==============================] - 1s 46ms/step - loss: 4.5518 - masked_accuracy: 0.2620 - val_loss: 5.7940 - val_masked_accuracy: 0.2000\n",
            "Epoch 29/50\n",
            "23/23 [==============================] - 1s 45ms/step - loss: 4.4579 - masked_accuracy: 0.2768 - val_loss: 5.7793 - val_masked_accuracy: 0.2048\n",
            "Epoch 30/50\n",
            "23/23 [==============================] - 1s 45ms/step - loss: 4.3675 - masked_accuracy: 0.2896 - val_loss: 5.7612 - val_masked_accuracy: 0.2084\n",
            "Epoch 31/50\n",
            "23/23 [==============================] - 1s 46ms/step - loss: 4.2743 - masked_accuracy: 0.3061 - val_loss: 5.7684 - val_masked_accuracy: 0.2052\n",
            "Epoch 32/50\n",
            "23/23 [==============================] - 1s 47ms/step - loss: 4.1705 - masked_accuracy: 0.3213 - val_loss: 5.7966 - val_masked_accuracy: 0.2040\n",
            "Epoch 33/50\n",
            "23/23 [==============================] - 1s 45ms/step - loss: 4.0860 - masked_accuracy: 0.3439 - val_loss: 5.8340 - val_masked_accuracy: 0.2070\n",
            "Epoch 34/50\n",
            "23/23 [==============================] - 2s 67ms/step - loss: 3.9559 - masked_accuracy: 0.3650 - val_loss: 5.8501 - val_masked_accuracy: 0.2056\n",
            "Epoch 35/50\n",
            "23/23 [==============================] - 1s 46ms/step - loss: 3.8565 - masked_accuracy: 0.3824 - val_loss: 5.8883 - val_masked_accuracy: 0.2159\n",
            "Epoch 36/50\n",
            "23/23 [==============================] - 1s 43ms/step - loss: 3.7338 - masked_accuracy: 0.4112 - val_loss: 5.8572 - val_masked_accuracy: 0.2078\n",
            "Epoch 37/50\n",
            "23/23 [==============================] - 1s 44ms/step - loss: 3.6197 - masked_accuracy: 0.4303 - val_loss: 5.8568 - val_masked_accuracy: 0.2100\n",
            "Epoch 38/50\n",
            "23/23 [==============================] - 1s 44ms/step - loss: 3.5070 - masked_accuracy: 0.4443 - val_loss: 5.8017 - val_masked_accuracy: 0.2163\n",
            "Epoch 39/50\n",
            "23/23 [==============================] - 1s 45ms/step - loss: 3.3760 - masked_accuracy: 0.4744 - val_loss: 5.8784 - val_masked_accuracy: 0.2145\n",
            "Epoch 40/50\n",
            "23/23 [==============================] - 1s 47ms/step - loss: 3.2765 - masked_accuracy: 0.4892 - val_loss: 5.8639 - val_masked_accuracy: 0.2211\n",
            "Epoch 41/50\n",
            "23/23 [==============================] - 1s 46ms/step - loss: 3.1372 - masked_accuracy: 0.5132 - val_loss: 5.8521 - val_masked_accuracy: 0.2259\n",
            "Epoch 42/50\n",
            "23/23 [==============================] - 1s 45ms/step - loss: 3.0193 - masked_accuracy: 0.5427 - val_loss: 5.9053 - val_masked_accuracy: 0.2293\n",
            "Epoch 43/50\n",
            "23/23 [==============================] - 1s 58ms/step - loss: 2.9128 - masked_accuracy: 0.5575 - val_loss: 5.9436 - val_masked_accuracy: 0.2211\n",
            "Epoch 44/50\n",
            "23/23 [==============================] - 2s 72ms/step - loss: 2.7795 - masked_accuracy: 0.5807 - val_loss: 5.9736 - val_masked_accuracy: 0.2134\n",
            "Epoch 45/50\n",
            "23/23 [==============================] - 1s 45ms/step - loss: 2.6474 - masked_accuracy: 0.6014 - val_loss: 5.9409 - val_masked_accuracy: 0.2211\n",
            "Epoch 46/50\n",
            "23/23 [==============================] - 1s 44ms/step - loss: 2.5289 - masked_accuracy: 0.6153 - val_loss: 5.9733 - val_masked_accuracy: 0.2207\n",
            "Epoch 47/50\n",
            "23/23 [==============================] - 1s 43ms/step - loss: 2.4040 - masked_accuracy: 0.6395 - val_loss: 5.9333 - val_masked_accuracy: 0.2281\n",
            "Epoch 48/50\n",
            "23/23 [==============================] - 1s 44ms/step - loss: 2.2749 - masked_accuracy: 0.6670 - val_loss: 5.9676 - val_masked_accuracy: 0.2326\n",
            "Epoch 49/50\n",
            "23/23 [==============================] - 1s 45ms/step - loss: 2.1746 - masked_accuracy: 0.6835 - val_loss: 5.9999 - val_masked_accuracy: 0.2300\n",
            "Epoch 50/50\n",
            "23/23 [==============================] - 1s 44ms/step - loss: 2.0456 - masked_accuracy: 0.7081 - val_loss: 6.0874 - val_masked_accuracy: 0.2355\n"
          ]
        }
      ]
    },
    {
      "cell_type": "markdown",
      "source": [
        "## **6. Đánh giá và trực quan hóa**"
      ],
      "metadata": {
        "id": "UgNNy8JUbfBj"
      }
    },
    {
      "cell_type": "code",
      "source": [
        "# Đánh giá mô hình trên tập test\n",
        "test_evaluation = transformer.evaluate(test_ds)"
      ],
      "metadata": {
        "colab": {
          "base_uri": "https://localhost:8080/"
        },
        "id": "b3TlfKI5rc7B",
        "outputId": "19e13c76-a541-4a04-8dcb-b5f5e4c4d73a"
      },
      "execution_count": null,
      "outputs": [
        {
          "output_type": "stream",
          "name": "stdout",
          "text": [
            "4/4 [==============================] - 0s 17ms/step - loss: 6.5326 - masked_accuracy: 0.1901\n"
          ]
        }
      ]
    },
    {
      "cell_type": "code",
      "source": [
        "# Đọc các kết quả huấn luyện mô hình qua từng epoch\n",
        "train_loss, train_acc = history.history['loss'], history.history['masked_accuracy'] # Đọc thông tin loss, acc trên tập train\n",
        "val_loss, val_acc = history.history['val_loss'], history.history['val_masked_accuracy'] # Đọc thông tin loss, acc trên tập val\n",
        "\n",
        "plt.figure(figsize=(10, 10)) # Cài đặt kích thước khung ảnh\n",
        "\n",
        "plt.subplot(2, 2, 1) # Khởi tạo khung ảnh cho training loss\n",
        "plt.xlabel('Epochs') # Hiển thị tên trục hoành là 'Epochs'\n",
        "plt.ylabel('Loss') # Hiển thị tên trục tung là 'Loss'\n",
        "plt.title('Training loss') # Hiển thị title của khung ảnh hiện tại là 'Training Loss'\n",
        "plt.plot(train_loss, color='green') # Vẽ đường giá trị loss trên tập train qua từng epoch (đường vẽ màu đỏ)\n",
        "\n",
        "plt.subplot(2, 2, 2) # Khởi tạo khung ảnh cho training acc\n",
        "plt.xlabel('Epochs') # Hiển thị tên trục hoành là 'Epochs'\n",
        "plt.ylabel('Accuracy') # Hiển thị tên trục tung là 'Accuracy'\n",
        "plt.title('Training accuracy') # Hiển thị title của khung ảnh hiện tại là 'Training accuracy'\n",
        "plt.plot(train_acc, color='orange') # Vẽ đường giá trị accuracy trên tập train qua từng epoch (đường vẽ màu cam)\n",
        "\n",
        "plt.subplot(2, 2, 3) # Khởi tạo khung ảnh cho val loss\n",
        "plt.xlabel('Epochs') # Hiển thị tên trục hoành là 'Epochs'\n",
        "plt.ylabel('Loss') # Hiển thị tên trục tung là 'Loss'\n",
        "plt.title('Validation loss') # Hiển thị title của khung ảnh hiện tại là 'Validation loss'\n",
        "plt.plot(val_loss, color='green') # Vẽ đường giá trị loss trên tập val qua từng epoch (đường vẽ màu đỏ)\n",
        "\n",
        "plt.subplot(2, 2, 4) # Khởi tạo khung ảnh cho val acc\n",
        "plt.xlabel('Epochs') # Hiển thị tên trục hoành là 'Epochs'\n",
        "plt.ylabel('Accuracy') # Hiển thị tên trục tung là 'Accuracy'\n",
        "plt.title('Validation accuracy') # Hiển thị title của khung ảnh hiện tại là 'Validation accuracy'\n",
        "plt.plot(val_acc, color='orange') # Vẽ đường giá trị accuracy trên tập val qua từng epoch (đường vẽ màu cam)\n",
        "\n",
        "plt.show() # Hiển thị 4 khung ảnh nhỏ"
      ],
      "metadata": {
        "id": "vmMe97kpcS71",
        "colab": {
          "base_uri": "https://localhost:8080/",
          "height": 621
        },
        "outputId": "64062f2c-9e7d-4819-b6ba-965d594d10ee"
      },
      "execution_count": null,
      "outputs": [
        {
          "output_type": "display_data",
          "data": {
            "text/plain": [
              "<Figure size 720x720 with 4 Axes>"
            ],
            "image/png": "[encoded data removed]"
          },
          "metadata": {
            "needs_background": "light"
          }
        }
      ]
    },
    {
      "cell_type": "code",
      "source": [
        "perplexities = []\n",
        "bleu_scores = []\n",
        "for sample in val_ds.take(1):\n",
        "    X_try, y_try = sample\n",
        "    y_pred = transformer(X_try)\n",
        "    batch_perplexity = compute_perplexity(y_pred, y_try)\n",
        "    batch_bleu_score = compute_bleu(y_pred, y_try)\n",
        "\n",
        "    perplexities.append(batch_perplexity)\n",
        "    bleu_scores.append(batch_bleu_score)\n",
        "\n",
        "    # print(f'Perplexity: {batch_perplexity}')\n",
        "    # print(f'BLEU score: {batch_bleu_score}')\n",
        "\n",
        "print(f'Perplexity: {sum(perplexities) / len(perplexities)}')\n",
        "print(f'BLEU score: {sum(bleu_scores) / len(bleu_scores)}')"
      ],
      "metadata": {
        "id": "OMO_szhoIxcq",
        "colab": {
          "base_uri": "https://localhost:8080/"
        },
        "outputId": "8d2ecf47-489a-49b6-a50b-99f53f19bc2c"
      },
      "execution_count": null,
      "outputs": [
        {
          "output_type": "stream",
          "name": "stdout",
          "text": [
            "Perplexity: 1920.78857421875\n",
            "BLEU score: 0.2684888158547525\n"
          ]
        }
      ]
    },
    {
      "cell_type": "markdown",
      "source": [
        "## **7. Inference**"
      ],
      "metadata": {
        "id": "8pSQL9BO0sry"
      }
    },
    {
      "cell_type": "code",
      "source": [
        "def generate_text(\n",
        "    generator_model, \n",
        "    tokenizer,\n",
        "    input_string\n",
        "    ):\n",
        "    \n",
        "    encoder_input_string = text_normalize(input_string) \n",
        "    encoder_input_sequence = tokenizer.texts_to_sequences([encoder_input_string])\n",
        "    encoder_input_padded_sequence = pad_sequences(encoder_input_sequence, maxlen=MAX_SEQ_LEN, truncating='pre', padding='post')[0]\n",
        "    encoder_input_padded_sequence = np.expand_dims(encoder_input_padded_sequence, axis=0) \n",
        "\n",
        "    decoder_input_string = '<start>'\n",
        "    decoder_input_sequence = tokenizer.texts_to_sequences([decoder_input_string])\n",
        "    decoder_input_padded_sequence = pad_sequences(decoder_input_sequence, maxlen=MAX_SEQ_LEN, truncating='pre', padding='post')[0]\n",
        "\n",
        "    start = decoder_input_padded_sequence[0][tf.newaxis]\n",
        "    end = decoder_input_padded_sequence[1][tf.newaxis]\n",
        "    decoder_input_padded_sequence = np.expand_dims(decoder_input_padded_sequence, axis=0)\n",
        "\n",
        "    output_array = tf.TensorArray(dtype=tf.int64, size=0, dynamic_size=True)\n",
        "    output_array = output_array.write(0, start) \n",
        "\n",
        "    for i in tf.range(MAX_SEQ_LEN): \n",
        "        output = tf.transpose(output_array.stack())\n",
        "        predictions = generator_model((encoder_input_padded_sequence, output), training=False)\n",
        "\n",
        "        # Select the last token from the `seq_len` dimension.\n",
        "        predictions = predictions[:, -1:, :]  # Shape `(batch_size, 1, vocab_size)`.\n",
        "\n",
        "        predicted_id = tf.argmax(predictions, axis=-1)\n",
        "\n",
        "        # Concatenate the `predicted_id` to the output which is given to the\n",
        "        # decoder as its input. \n",
        "        output_array = output_array.write(i+1, predicted_id[0])\n",
        "\n",
        "        if predicted_id == end:\n",
        "            break\n",
        "\n",
        "    output = tf.transpose(output_array.stack())\n",
        "    output_tokens = output.numpy()\n",
        "    # The output shape is `(1, tokens)`.\n",
        "    text = tokenizer.sequences_to_texts(output_tokens)[0]  # Shape: `()`.\n",
        "\n",
        "    # `tf.function` prevents us from using the attention_weights that were\n",
        "    # calculated on the last iteration of the loop.\n",
        "    # So, recalculate them outside the loop.\n",
        "    generator_model([encoder_input_padded_sequence, output[:, :-1]], training=False)\n",
        "    attention_weights = generator_model.decoder.last_attn_scores\n",
        "\n",
        "    return text, output_tokens, attention_weights"
      ],
      "metadata": {
        "id": "djBwR4Pd0vTu"
      },
      "execution_count": null,
      "outputs": []
    },
    {
      "cell_type": "code",
      "source": [
        "n_sentences = 10\n",
        "results = ['hôm nay tôi đi học']\n",
        "for idx in range(n_sentences + 1):\n",
        "    input_str = results[idx]\n",
        "    text, output_tokens, attention_weights = generate_text(\n",
        "        transformer, \n",
        "        tokenizer,\n",
        "        input_str\n",
        "    )\n",
        "    results.append(text.replace('<start>', '').replace('<end>', ''))\n",
        "\n",
        "print('\\n'.join(results))"
      ],
      "metadata": {
        "colab": {
          "base_uri": "https://localhost:8080/"
        },
        "id": "MkCZnhJGZGws",
        "outputId": "175c81c4-6f16-4008-c542-09ef3da8f3ed"
      },
      "execution_count": null,
      "outputs": [
        {
          "output_type": "stream",
          "name": "stdout",
          "text": [
            "hôm nay tôi đi học\n",
            " con mèo con mắt tôi  \n",
            " con mèo đang nhìn tôi  \n",
            " mắt trong xanh tận đáy  \n",
            " nước trong xanh tận đáy  \n",
            " anh có em mưa qua  \n",
            " như thuở xa dài không  \n",
            " em chỉ cần có anh  \n",
            " anh con trong xanh tận  \n",
            " anh có em đi qua  \n",
            " như còn mùa đông rừng  \n",
            " anh già kể đầu cúi  \n"
          ]
        }
      ]
    }
  ],
  "metadata": {
    "accelerator": "GPU",
    "colab": {
      "provenance": [],
      "collapsed_sections": [
        "iBYXRSW8at00",
        "eVEKM0CM3Awi",
        "qdPLnIH-3GYU",
        "__oPvUVi64cq",
        "wg1LFsNp78yP",
        "LFu2uQl982cm",
        "0eYYZ4gm9RRp",
        "MRooqf4a9lxq",
        "9zrYsImw914U",
        "CZdo9DtV96VM",
        "MCoNtShU-Tmn",
        "3Kb90Safbc0I"
      ]
    },
    "kernelspec": {
      "display_name": "Python 3 (ipykernel)",
      "language": "python",
      "name": "python3"
    },
    "language_info": {
      "codemirror_mode": {
        "name": "ipython",
        "version": 3
      },
      "file_extension": ".py",
      "mimetype": "text/x-python",
      "name": "python",
      "nbconvert_exporter": "python",
      "pygments_lexer": "ipython3",
      "version": "3.9.7"
    },
    "gpuClass": "premium"
  },
  "nbformat": 4,
  "nbformat_minor": 0
}